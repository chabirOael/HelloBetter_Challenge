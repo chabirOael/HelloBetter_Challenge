{
 "cells": [
  {
   "cell_type": "code",
   "execution_count": 4,
   "metadata": {},
   "outputs": [],
   "source": [
    "import mlflow"
   ]
  },
  {
   "cell_type": "code",
   "execution_count": 5,
   "metadata": {},
   "outputs": [],
   "source": [
    "%run model/utils.ipynb"
   ]
  },
  {
   "cell_type": "code",
   "execution_count": null,
   "metadata": {},
   "outputs": [],
   "source": [
    "def predict_treatment_outcome(data, prediction_new_colname='treatment_outcome_preds',\n",
    "                       model_name=mlflow_register_model_name, model_version='1', \n",
    "                       mlflow_uri=mlflow_tracking_uri):\n",
    "    \"\"\"\n",
    "    Set the MLflow tracking URI, load a specific version of a registered model from MLflow,\n",
    "    and make predictions on the given data.\n",
    "\n",
    "    Parameters:\n",
    "    - mlflow_uri (str): The URI of the MLflow tracking server.\n",
    "    - model_name (str): The name of the registered model in MLflow.\n",
    "    - model_version (str): The specific version of the model to be used for prediction.\n",
    "    - data (pd.DataFrame): The DataFrame containing input data for making predictions.\n",
    "\n",
    "    Returns:\n",
    "    - predictions (np.array): Predictions made by the model on the input data.\n",
    "    \"\"\"\n",
    "\n",
    "    # Set the MLflow tracking URI\n",
    "    mlflow.set_tracking_uri(mlflow_uri)\n",
    "\n",
    "    # Construct the model URI\n",
    "    model_uri = f\"models:/{model_name}/{model_version}\"\n",
    "\n",
    "    # Load the model from MLflow\n",
    "    model = mlflow.pyfunc.load_model(model_uri)\n",
    "\n",
    "    # Make predictions\n",
    "    data_columns_backup = data.columns.to_list()\n",
    "    data = preprocess_data(data)\n",
    "    data[prediction_new_colname] = model.predict(data[select_training_columns])\n",
    "    data_columns_backup.append(prediction_new_colname)\n",
    "    return data[data_columns_backup]"
   ]
  }
 ],
 "metadata": {
  "kernelspec": {
   "display_name": "hellobetter",
   "language": "python",
   "name": "python3"
  },
  "language_info": {
   "codemirror_mode": {
    "name": "ipython",
    "version": 3
   },
   "file_extension": ".py",
   "mimetype": "text/x-python",
   "name": "python",
   "nbconvert_exporter": "python",
   "pygments_lexer": "ipython3",
   "version": "3.11.4"
  }
 },
 "nbformat": 4,
 "nbformat_minor": 2
}
