{
 "cells": [
  {
   "cell_type": "code",
   "execution_count": null,
   "metadata": {},
   "outputs": [],
   "source": [
    "# CONFIGS\n",
    "dataset_path = 'data\\case_study_example_data.csv'\n",
    "processed_dataset_path = 'data\\processed_dataset.parquet'\n",
    "\n",
    "categorical_columns = ['course', 'gender', 'pre_existing_medical_condition']\n",
    "select_training_columns = ['combined_to_assessment_age', 'course', 'gender', 'combined_age_medical_condition', 'mass_score', 'unsuccessful_outcome']\n",
    "\n",
    "composite_score_ratio_dict = {\n",
    "    'sleep': {\n",
    "        'diary_sleep_avg':0.5,\n",
    "        'diary_stress_avg':0.2 ,\n",
    "        'diary_mood_avg':0.2 ,\n",
    "        'alcohol_scale':0.1 ,\n",
    "    },\n",
    "    'stress': {\n",
    "        'diary_sleep_avg':0.2,\n",
    "        'diary_stress_avg':0.5 ,\n",
    "        'diary_mood_avg':0.2 ,\n",
    "        'alcohol_scale':0.1 ,\n",
    "    },\n",
    "    'depression': {\n",
    "        'diary_sleep_avg':0.2,\n",
    "        'diary_stress_avg':0.2 ,\n",
    "        'diary_mood_avg':0.5 ,\n",
    "        'alcohol_scale':0.1 ,\n",
    "    },\n",
    "    'burnout': {\n",
    "        'diary_sleep_avg':0.2,\n",
    "        'diary_stress_avg':0.5 ,\n",
    "        'diary_mood_avg':0.2 ,\n",
    "        'alcohol_scale':0.1 ,\n",
    "    },\n",
    "    'chronic_pain': {\n",
    "        'diary_sleep_avg':0.3,\n",
    "        'diary_stress_avg':0.3,\n",
    "        'diary_mood_avg':0.3,\n",
    "        'alcohol_scale':0.1,\n",
    "    },\n",
    "}\n",
    "\n",
    "\n",
    "# MLflow configuration variables\n",
    "mlflow_tracking_uri = 'http://localhost:5000'\n",
    "mlflow_experiment_name = 'HelloBetter-Treatment_Outcome_preds'\n",
    "mlflow_register_model_name = 'HelloBetter-Teatment_outcome_predictor'\n",
    "mlflow_model_path = 'model'\n",
    "mlflow_plots_artefact_path = 'plots'"
   ]
  }
 ],
 "metadata": {
  "language_info": {
   "name": "python"
  }
 },
 "nbformat": 4,
 "nbformat_minor": 2
}
